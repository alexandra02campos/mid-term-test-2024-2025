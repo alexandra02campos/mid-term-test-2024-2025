{
 "cells": [
  {
   "cell_type": "code",
   "execution_count": 29,
   "id": "caba7342-5b5d-47bc-8470-64f40b4048f4",
   "metadata": {
    "tags": []
   },
   "outputs": [],
   "source": [
    "import csv\n",
    "import pandas as pd"
   ]
  },
  {
   "cell_type": "code",
   "execution_count": 50,
   "id": "22192504-85fd-408c-bdeb-7f6e37bada15",
   "metadata": {
    "tags": []
   },
   "outputs": [],
   "source": [
    "# Specify the file you want to load\n",
    "csv_filename = 'DHR.csv'\n",
    "\n",
    "with open('DHR.csv', 'r', newline='') as csvfile:\n",
    "    df1 = pd.read_csv(csvfile)\n",
    "  "
   ]
  },
  {
   "cell_type": "code",
   "execution_count": 52,
   "id": "d2c3f381-6104-4dd7-9ea1-2306eee3d56a",
   "metadata": {
    "tags": []
   },
   "outputs": [],
   "source": [
    "# Specify the file you want to load\n",
    "csv_filename = 'IFF.csv'\n",
    "\n",
    "with open('IFF.csv', 'r', newline='') as csvfile:\n",
    "    df2 = pd.read_csv(csvfile)\n",
    "  "
   ]
  },
  {
   "cell_type": "code",
   "execution_count": 54,
   "id": "90920784-21f0-454b-8b41-32df64aa359c",
   "metadata": {
    "tags": []
   },
   "outputs": [],
   "source": [
    "# Specify the file you want to load\n",
    "csv_filename = 'MRO.csv'\n",
    "\n",
    "with open('MRO.csv', 'r', newline='') as csvfile:\n",
    "    df3 = pd.read_csv(csvfile)\n",
    "  "
   ]
  },
  {
   "cell_type": "code",
   "execution_count": 56,
   "id": "ff2928b5-1f1c-4f68-8351-887ee1444863",
   "metadata": {
    "tags": []
   },
   "outputs": [],
   "source": [
    "# Specify the file you want to load\n",
    "csv_filename = 'RMD.csv'\n",
    "\n",
    "with open('RMD.csv', 'r', newline='') as csvfile:\n",
    "    df4 = pd.read_csv(csvfile)\n",
    "  "
   ]
  },
  {
   "cell_type": "code",
   "execution_count": 58,
   "id": "24663ed9-b5b0-443c-a32b-5f13f4adce48",
   "metadata": {},
   "outputs": [],
   "source": [
    "# list of all files\n",
    "csv_list=['RMD.csv', 'MRO.csv', 'IFF.csv', 'DHR.csv' ]\n",
    "\n",
    "# create list of dataframes\n",
    "df_list = [pd.read_csv(itw) for itw in csv_list]\n",
    "    \n",
    "# combine all the dataframes\n",
    "df = pd.concat(df_list, axis=1)\n",
    "\n",
    "# save\n",
    "df.to_csv('combined_files.csv', index=False)"
   ]
  },
  {
   "cell_type": "code",
   "execution_count": 60,
   "id": "1f76d883-3b5c-4950-b2a8-d6354ad8519c",
   "metadata": {
    "tags": []
   },
   "outputs": [
    {
     "name": "stdout",
     "output_type": "stream",
     "text": [
      "            Date     Open     High      Low    Close  Volume  Dividends  \\\n",
      "0     2017-01-03   56.868   56.868   56.062   56.731  573900        0.0   \n",
      "1     2017-01-04   56.996   57.143   56.520   57.097  758800        0.0   \n",
      "2     2017-01-05   57.253   57.344   56.438   56.657  627000        0.0   \n",
      "3     2017-01-06   56.731   57.115   56.548   56.905  481900        0.0   \n",
      "4     2017-01-09   56.850   58.040   56.813   57.930  482800        0.0   \n",
      "...          ...      ...      ...      ...      ...     ...        ...   \n",
      "1505  2022-12-23  204.413  205.041  202.618  204.403  565400        0.0   \n",
      "1506  2022-12-27  204.963  206.444  201.931  203.000  663000        0.0   \n",
      "1507  2022-12-28  203.000  204.570  201.313  201.901  469300        0.0   \n",
      "1508  2022-12-29  204.168  206.287  203.089  205.434  658900        0.0   \n",
      "1509  2022-12-30  204.089  204.521  201.666  204.217  359700        0.0   \n",
      "\n",
      "      Stock Splits        Date    Open  ...  Dividends  Stock Splits  \\\n",
      "0              0.0  2017-01-03  15.903  ...       0.00           0.0   \n",
      "1              0.0  2017-01-04  15.876  ...       0.00           0.0   \n",
      "2              0.0  2017-01-05  16.226  ...       0.00           0.0   \n",
      "3              0.0  2017-01-06  16.289  ...       0.00           0.0   \n",
      "4              0.0  2017-01-09  15.814  ...       0.00           0.0   \n",
      "...            ...         ...     ...  ...        ...           ...   \n",
      "1505           0.0  2022-12-23  26.251  ...       0.00           0.0   \n",
      "1506           0.0  2022-12-27  26.774  ...       0.81           0.0   \n",
      "1507           0.0  2022-12-28  26.513  ...       0.00           0.0   \n",
      "1508           0.0  2022-12-29  25.497  ...       0.00           0.0   \n",
      "1509           0.0  2022-12-30  25.729  ...       0.00           0.0   \n",
      "\n",
      "            Date     Open     High      Low    Close   Volume  Dividends  \\\n",
      "0     2017-01-03   67.064   67.500   66.875   67.354  3205438      0.000   \n",
      "1     2017-01-04   67.311   68.209   67.243   67.782  3604411      0.000   \n",
      "2     2017-01-05   67.790   68.440   67.662   68.406  3822905      0.000   \n",
      "3     2017-01-06   68.389   69.013   68.166   68.765  2372861      0.000   \n",
      "4     2017-01-09   68.739   68.987   68.611   68.902  2614027      0.000   \n",
      "...          ...      ...      ...      ...      ...      ...        ...   \n",
      "1505  2022-12-23  226.895  229.874  226.517  228.398  1236739      0.000   \n",
      "1506  2022-12-27  227.923  230.859  225.690  229.294  1275091      0.000   \n",
      "1507  2022-12-28  230.700  233.267  227.738  227.941  1558332      0.000   \n",
      "1508  2022-12-29  231.178  236.246  230.237  234.768  1357322      0.222   \n",
      "1509  2022-12-30  234.636  235.471  230.897  233.509  1701926      0.000   \n",
      "\n",
      "      Stock Splits  \n",
      "0              0.0  \n",
      "1              0.0  \n",
      "2              0.0  \n",
      "3              0.0  \n",
      "4              0.0  \n",
      "...            ...  \n",
      "1505           0.0  \n",
      "1506           0.0  \n",
      "1507           0.0  \n",
      "1508           0.0  \n",
      "1509           0.0  \n",
      "\n",
      "[1510 rows x 32 columns]\n"
     ]
    }
   ],
   "source": [
    "print (df)"
   ]
  },
  {
   "cell_type": "code",
   "execution_count": 46,
   "id": "f3191207-c824-45fe-909d-27db98da1c1d",
   "metadata": {
    "tags": []
   },
   "outputs": [],
   "source": [
    "#part 1"
   ]
  },
  {
   "cell_type": "code",
   "execution_count": 48,
   "id": "a6e60883-a9b1-4733-8a28-93db86f28fdf",
   "metadata": {
    "tags": []
   },
   "outputs": [],
   "source": [
    "#question1"
   ]
  },
  {
   "cell_type": "code",
   "execution_count": 72,
   "id": "9d9898e5-9141-43d3-ac40-476730695f3a",
   "metadata": {
    "tags": []
   },
   "outputs": [
    {
     "data": {
      "text/plain": [
       "False"
      ]
     },
     "execution_count": 72,
     "metadata": {},
     "output_type": "execute_result"
    }
   ],
   "source": [
    "df['Open'].equals(df['Close'])"
   ]
  },
  {
   "cell_type": "code",
   "execution_count": 74,
   "id": "97a84cec-310c-4693-b3a1-b0e9ab281c80",
   "metadata": {
    "tags": []
   },
   "outputs": [
    {
     "data": {
      "text/plain": [
       "False"
      ]
     },
     "execution_count": 74,
     "metadata": {},
     "output_type": "execute_result"
    }
   ],
   "source": [
    "df1['Open'].equals(df1['Close'])"
   ]
  },
  {
   "cell_type": "code",
   "execution_count": 76,
   "id": "0b939607-b9c2-4a30-b809-76518d6f27bd",
   "metadata": {
    "tags": []
   },
   "outputs": [
    {
     "data": {
      "text/plain": [
       "False"
      ]
     },
     "execution_count": 76,
     "metadata": {},
     "output_type": "execute_result"
    }
   ],
   "source": [
    "df2['Open'].equals(df2['Close'])"
   ]
  },
  {
   "cell_type": "code",
   "execution_count": 78,
   "id": "7117d745-2ca1-48aa-8f42-bdcad6793a03",
   "metadata": {
    "tags": []
   },
   "outputs": [
    {
     "data": {
      "text/plain": [
       "False"
      ]
     },
     "execution_count": 78,
     "metadata": {},
     "output_type": "execute_result"
    }
   ],
   "source": [
    "df3['Open'].equals(df3['Close'])"
   ]
  },
  {
   "cell_type": "code",
   "execution_count": 80,
   "id": "ffcdace1-6ede-48a2-89bc-ecb57b3ab114",
   "metadata": {
    "tags": []
   },
   "outputs": [
    {
     "data": {
      "text/plain": [
       "False"
      ]
     },
     "execution_count": 80,
     "metadata": {},
     "output_type": "execute_result"
    }
   ],
   "source": [
    "df4['Open'].equals(df4['Close'])"
   ]
  },
  {
   "cell_type": "markdown",
   "id": "3a26a05c-6551-4057-a450-3aebe4e0c7b5",
   "metadata": {},
   "source": [
    "For all companies, the closing price is different from the opening price. This happens because during the opening and closing daym the price of the stock of the company is inlfuenced by several aspects such as news. This means that orders are being placed even after the markets are closed, which results in changing the prices of stocks."
   ]
  },
  {
   "cell_type": "code",
   "execution_count": 83,
   "id": "39f3781f-9e13-457b-8a25-8c4368d85f4a",
   "metadata": {
    "tags": []
   },
   "outputs": [],
   "source": [
    "#question 2"
   ]
  },
  {
   "cell_type": "code",
   "execution_count": 85,
   "id": "df8752c3-ed1f-4b8f-a973-178064c16f0f",
   "metadata": {
    "tags": []
   },
   "outputs": [
    {
     "data": {
      "text/plain": [
       "67.354"
      ]
     },
     "execution_count": 85,
     "metadata": {},
     "output_type": "execute_result"
    }
   ],
   "source": [
    "df1['Close'].min()"
   ]
  },
  {
   "cell_type": "code",
   "execution_count": 87,
   "id": "bfe8ea07-a596-44f2-b0ab-5e65acae1dc1",
   "metadata": {
    "tags": []
   },
   "outputs": [
    {
     "data": {
      "text/plain": [
       "290.965"
      ]
     },
     "execution_count": 87,
     "metadata": {},
     "output_type": "execute_result"
    }
   ],
   "source": [
    "df1['Close'].max()"
   ]
  },
  {
   "cell_type": "code",
   "execution_count": 89,
   "id": "3a6d1f0b-65bf-4ff1-9937-3c83930715b0",
   "metadata": {
    "tags": []
   },
   "outputs": [
    {
     "data": {
      "text/plain": [
       "79.733"
      ]
     },
     "execution_count": 89,
     "metadata": {},
     "output_type": "execute_result"
    }
   ],
   "source": [
    "df2['Close'].min()"
   ]
  },
  {
   "cell_type": "code",
   "execution_count": 97,
   "id": "b51f2b91-2b43-427a-b2f4-cfd2c42c66a8",
   "metadata": {
    "tags": []
   },
   "outputs": [
    {
     "data": {
      "text/plain": [
       "142.532"
      ]
     },
     "execution_count": 97,
     "metadata": {},
     "output_type": "execute_result"
    }
   ],
   "source": [
    "df2['Close'].max()"
   ]
  },
  {
   "cell_type": "code",
   "execution_count": 91,
   "id": "f99a294d-b9ca-4a4d-8f45-8971b16ee099",
   "metadata": {
    "tags": []
   },
   "outputs": [
    {
     "data": {
      "text/plain": [
       "2.923"
      ]
     },
     "execution_count": 91,
     "metadata": {},
     "output_type": "execute_result"
    }
   ],
   "source": [
    "df3['Close'].min()"
   ]
  },
  {
   "cell_type": "code",
   "execution_count": 99,
   "id": "244bee73-dd6a-45ab-802e-4c79af75f455",
   "metadata": {
    "tags": []
   },
   "outputs": [
    {
     "data": {
      "text/plain": [
       "31.873"
      ]
     },
     "execution_count": 99,
     "metadata": {},
     "output_type": "execute_result"
    }
   ],
   "source": [
    "df3['Close'].max()"
   ]
  },
  {
   "cell_type": "code",
   "execution_count": 93,
   "id": "92f85cec-a821-48d1-bfd1-5df749637c23",
   "metadata": {
    "tags": []
   },
   "outputs": [
    {
     "data": {
      "text/plain": [
       "56.657"
      ]
     },
     "execution_count": 93,
     "metadata": {},
     "output_type": "execute_result"
    }
   ],
   "source": [
    "df4['Close'].min()"
   ]
  },
  {
   "cell_type": "code",
   "execution_count": 101,
   "id": "14a8fd77-ce34-43ac-bfec-400ea1a805da",
   "metadata": {
    "tags": []
   },
   "outputs": [
    {
     "data": {
      "text/plain": [
       "289.034"
      ]
     },
     "execution_count": 101,
     "metadata": {},
     "output_type": "execute_result"
    }
   ],
   "source": [
    "df4['Close'].max()"
   ]
  },
  {
   "cell_type": "code",
   "execution_count": 103,
   "id": "d2e3b0e2-9ed4-4bf9-bb94-65023524bdb7",
   "metadata": {
    "tags": []
   },
   "outputs": [],
   "source": [
    "#question 3"
   ]
  },
  {
   "cell_type": "code",
   "execution_count": 105,
   "id": "4097a248-cd57-4e44-aabd-783536e902fd",
   "metadata": {
    "tags": []
   },
   "outputs": [],
   "source": [
    "import numpy as np"
   ]
  },
  {
   "cell_type": "code",
   "execution_count": 131,
   "id": "42eba374-3e61-4dea-80d0-ceb38c058faa",
   "metadata": {
    "tags": []
   },
   "outputs": [],
   "source": [
    "df1['log_return1']=np.log(df1.Close / df1.Close.shift(1))"
   ]
  },
  {
   "cell_type": "code",
   "execution_count": 137,
   "id": "64959a71-8c6c-489b-ba39-05782214aa85",
   "metadata": {
    "tags": []
   },
   "outputs": [],
   "source": [
    "df2['log_return2']=log_return2=np.log(df2.Close / df2.Close.shift(1))"
   ]
  },
  {
   "cell_type": "code",
   "execution_count": 139,
   "id": "fff198c3-89ce-411a-8e28-2a3b483557c5",
   "metadata": {
    "tags": []
   },
   "outputs": [],
   "source": [
    "df3['log_return3']=log_return3=np.log(df3.Close / df3.Close.shift(1))"
   ]
  },
  {
   "cell_type": "code",
   "execution_count": 141,
   "id": "1b68ded0-f455-4c6f-873b-480acd3f3c4e",
   "metadata": {
    "tags": []
   },
   "outputs": [],
   "source": [
    "df4['log_return4']=log_return4=np.log(df4.Close / df4.Close.shift(1))"
   ]
  },
  {
   "cell_type": "code",
   "execution_count": 127,
   "id": "c2c97d24-24b3-4ffe-af90-07b4d6a46a3f",
   "metadata": {
    "tags": []
   },
   "outputs": [],
   "source": [
    "#question4"
   ]
  },
  {
   "cell_type": "code",
   "execution_count": 157,
   "id": "c9d6f0ed-8fbc-453d-93fb-2c8f60ee6918",
   "metadata": {
    "tags": []
   },
   "outputs": [
    {
     "name": "stdout",
     "output_type": "stream",
     "text": [
      "            Date     Open     High      Low    Close   Volume  Dividends  \\\n",
      "1     2017-01-04   67.311   68.209   67.243   67.782  3604411      0.000   \n",
      "2     2017-01-05   67.790   68.440   67.662   68.406  3822905      0.000   \n",
      "3     2017-01-06   68.389   69.013   68.166   68.765  2372861      0.000   \n",
      "4     2017-01-09   68.739   68.987   68.611   68.902  2614027      0.000   \n",
      "5     2017-01-10   68.799   69.526   68.705   69.338  3945518      0.000   \n",
      "...          ...      ...      ...      ...      ...      ...        ...   \n",
      "1505  2022-12-23  226.895  229.874  226.517  228.398  1236739      0.000   \n",
      "1506  2022-12-27  227.923  230.859  225.690  229.294  1275091      0.000   \n",
      "1507  2022-12-28  230.700  233.267  227.738  227.941  1558332      0.000   \n",
      "1508  2022-12-29  231.178  236.246  230.237  234.768  1357322      0.222   \n",
      "1509  2022-12-30  234.636  235.471  230.897  233.509  1701926      0.000   \n",
      "\n",
      "      Stock Splits  log_return  log_return1  \n",
      "1              0.0    0.006334     0.006334  \n",
      "2              0.0    0.009164     0.009164  \n",
      "3              0.0    0.005234     0.005234  \n",
      "4              0.0    0.001990     0.001990  \n",
      "5              0.0    0.006308     0.006308  \n",
      "...            ...         ...          ...  \n",
      "1505           0.0    0.004590     0.004590  \n",
      "1506           0.0    0.003915     0.003915  \n",
      "1507           0.0   -0.005918    -0.005918  \n",
      "1508           0.0    0.029511     0.029511  \n",
      "1509           0.0   -0.005377    -0.005377  \n",
      "\n",
      "[1509 rows x 10 columns]\n"
     ]
    }
   ],
   "source": [
    " # Find the maximum salary per company\n",
    "max_loss1 = df1.groupby('log_return1')['log_return1'].transform('max')\n",
    "\n",
    "# Select only the rows where the salary is the maximum for the department\n",
    "highest_loss_company1 = df1[df1['log_return1'] == max_loss]\n",
    "\n",
    "print(highest_loss_company1)"
   ]
  },
  {
   "cell_type": "code",
   "execution_count": 159,
   "id": "6d10ad22-df06-466a-8552-d033d556a7b5",
   "metadata": {
    "tags": []
   },
   "outputs": [
    {
     "name": "stdout",
     "output_type": "stream",
     "text": [
      "Empty DataFrame\n",
      "Columns: [Date, Open, High, Low, Close, Volume, Dividends, Stock Splits, log_return2]\n",
      "Index: []\n"
     ]
    }
   ],
   "source": [
    " # Find the maximum salary per company\n",
    "max_loss2 = df2.groupby('log_return2')['log_return2'].transform('max')\n",
    "\n",
    "# Select only the rows where the salary is the maximum for the department\n",
    "highest_loss_company2 = df2[df2['log_return2'] == max_loss]\n",
    "\n",
    "print(highest_loss_company2)"
   ]
  },
  {
   "cell_type": "code",
   "execution_count": 161,
   "id": "c0a62829-f6b3-46bf-8cf0-917ccfcc6f43",
   "metadata": {
    "tags": []
   },
   "outputs": [
    {
     "name": "stdout",
     "output_type": "stream",
     "text": [
      "Empty DataFrame\n",
      "Columns: [Date, Open, High, Low, Close, Volume, Dividends, Stock Splits, log_return3]\n",
      "Index: []\n"
     ]
    }
   ],
   "source": [
    " # Find the maximum salary per company\n",
    "max_loss3 = df3.groupby('log_return3')['log_return3'].transform('max')\n",
    "\n",
    "# Select only the rows where the salary is the maximum for the department\n",
    "highest_loss_company3 = df3[df3['log_return3'] == max_loss]\n",
    "print(highest_loss_company3)"
   ]
  },
  {
   "cell_type": "code",
   "execution_count": 163,
   "id": "d500a3d5-0781-41a9-94dc-7a953f720e74",
   "metadata": {
    "tags": []
   },
   "outputs": [
    {
     "name": "stdout",
     "output_type": "stream",
     "text": [
      "Empty DataFrame\n",
      "Columns: [Date, Open, High, Low, Close, Volume, Dividends, Stock Splits, log_return4]\n",
      "Index: []\n"
     ]
    }
   ],
   "source": [
    " # Find the maximum salary per company\n",
    "max_loss4 = df4.groupby('log_return4')['log_return4'].transform('max')\n",
    "\n",
    "# Select only the rows where the salary is the maximum for the department\n",
    "highest_loss_company4 = df4[df4['log_return4'] == max_loss]\n",
    "\n",
    "print(highest_loss_company4)\n"
   ]
  },
  {
   "cell_type": "code",
   "execution_count": 165,
   "id": "a9929eb2-3b77-464d-b33b-3c5a11e0a2d9",
   "metadata": {
    "tags": []
   },
   "outputs": [],
   "source": [
    "#question 5"
   ]
  },
  {
   "cell_type": "code",
   "execution_count": 179,
   "id": "6e07fd9e-ce8d-485b-adfb-969473ec4173",
   "metadata": {
    "tags": []
   },
   "outputs": [],
   "source": [
    "#df1['date'].week()"
   ]
  },
  {
   "cell_type": "code",
   "execution_count": 173,
   "id": "e6e176cb-a508-47a1-b8a2-c900ea315154",
   "metadata": {
    "tags": []
   },
   "outputs": [
    {
     "data": {
      "text/plain": [
       "Volume\n",
       "668678          668678.0\n",
       "689208          689208.0\n",
       "847015          847015.0\n",
       "979442          979442.0\n",
       "1011365        1011365.0\n",
       "                ...     \n",
       "45906216      45906216.0\n",
       "59998771      59998771.0\n",
       "72307733      72307733.0\n",
       "83263658      83263658.0\n",
       "103834430    103834430.0\n",
       "Name: Volume, Length: 1465, dtype: float64"
      ]
     },
     "execution_count": 173,
     "metadata": {},
     "output_type": "execute_result"
    }
   ],
   "source": [
    "df1_group=df1.groupby('Volume')\n",
    "df1_group['Volume'].mean()"
   ]
  },
  {
   "cell_type": "code",
   "execution_count": 181,
   "id": "d10e210d-aabe-47cd-9fa2-f9a88e9efae9",
   "metadata": {
    "tags": []
   },
   "outputs": [
    {
     "data": {
      "text/plain": [
       "Volume\n",
       "94100          94100.0\n",
       "138600        138600.0\n",
       "149100        149100.0\n",
       "157800        157800.0\n",
       "158900        158900.0\n",
       "               ...    \n",
       "15933300    15933300.0\n",
       "16109900    16109900.0\n",
       "19974800    19974800.0\n",
       "30334000    30334000.0\n",
       "30551300    30551300.0\n",
       "Name: Volume, Length: 1455, dtype: float64"
      ]
     },
     "execution_count": 181,
     "metadata": {},
     "output_type": "execute_result"
    }
   ],
   "source": [
    "df2_group=df2.groupby('Volume')\n",
    "df2_group['Volume'].mean()"
   ]
  },
  {
   "cell_type": "code",
   "execution_count": 181,
   "id": "c5cab4f7-7236-44c4-8521-1d6e7dde20a4",
   "metadata": {
    "tags": []
   },
   "outputs": [
    {
     "data": {
      "text/plain": [
       "Volume\n",
       "94100          94100.0\n",
       "138600        138600.0\n",
       "149100        149100.0\n",
       "157800        157800.0\n",
       "158900        158900.0\n",
       "               ...    \n",
       "15933300    15933300.0\n",
       "16109900    16109900.0\n",
       "19974800    19974800.0\n",
       "30334000    30334000.0\n",
       "30551300    30551300.0\n",
       "Name: Volume, Length: 1455, dtype: float64"
      ]
     },
     "execution_count": 181,
     "metadata": {},
     "output_type": "execute_result"
    }
   ],
   "source": [
    "df2_group=df2.groupby('Volume')\n",
    "df2_group['Volume'].mean()"
   ]
  },
  {
   "cell_type": "code",
   "execution_count": 183,
   "id": "738bfbfe-8990-4b4b-9698-6ee802397020",
   "metadata": {
    "tags": []
   },
   "outputs": [
    {
     "data": {
      "text/plain": [
       "Volume\n",
       "0                    0.0\n",
       "3347853        3347853.0\n",
       "4065022        4065022.0\n",
       "5406327        5406327.0\n",
       "5786055        5786055.0\n",
       "                ...     \n",
       "86465040      86465040.0\n",
       "100806160    100806160.0\n",
       "103558771    103558771.0\n",
       "105292460    105292460.0\n",
       "107575361    107575361.0\n",
       "Name: Volume, Length: 1510, dtype: float64"
      ]
     },
     "execution_count": 183,
     "metadata": {},
     "output_type": "execute_result"
    }
   ],
   "source": [
    "df3_group=df3.groupby('Volume')\n",
    "df3_group['Volume'].mean()"
   ]
  },
  {
   "cell_type": "code",
   "execution_count": 185,
   "id": "1399f717-66e2-484c-8bed-5d7b3a119029",
   "metadata": {
    "tags": []
   },
   "outputs": [
    {
     "data": {
      "text/plain": [
       "Volume\n",
       "99600          99600.0\n",
       "120900        120900.0\n",
       "153600        153600.0\n",
       "156400        156400.0\n",
       "178200        178200.0\n",
       "               ...    \n",
       "4248900      4248900.0\n",
       "4356000      4356000.0\n",
       "4695800      4695800.0\n",
       "5881000      5881000.0\n",
       "30299300    30299300.0\n",
       "Name: Volume, Length: 1382, dtype: float64"
      ]
     },
     "execution_count": 185,
     "metadata": {},
     "output_type": "execute_result"
    }
   ],
   "source": [
    "df4_group=df4.groupby('Volume')\n",
    "df4_group['Volume'].mean()"
   ]
  },
  {
   "cell_type": "code",
   "execution_count": 187,
   "id": "637cdb96-ae02-4819-bf01-8af1df7bcd10",
   "metadata": {
    "tags": []
   },
   "outputs": [],
   "source": [
    "#question6"
   ]
  },
  {
   "cell_type": "code",
   "execution_count": 203,
   "id": "7e27e40d-3107-47f8-bf47-8981fd349878",
   "metadata": {
    "tags": []
   },
   "outputs": [],
   "source": [
    "df_1 = df1.groupby('log_return1')['log_return1'].transform('max')"
   ]
  },
  {
   "cell_type": "code",
   "execution_count": 205,
   "id": "71dd16cd-4d0d-442f-bc22-8f8799ae2033",
   "metadata": {
    "tags": []
   },
   "outputs": [
    {
     "data": {
      "text/plain": [
       "0            NaN\n",
       "1       0.006334\n",
       "2       0.009164\n",
       "3       0.005234\n",
       "4       0.001990\n",
       "          ...   \n",
       "1505    0.004590\n",
       "1506    0.003915\n",
       "1507   -0.005918\n",
       "1508    0.029511\n",
       "1509   -0.005377\n",
       "Name: log_return1, Length: 1510, dtype: float64"
      ]
     },
     "execution_count": 205,
     "metadata": {},
     "output_type": "execute_result"
    }
   ],
   "source": [
    "df_1"
   ]
  },
  {
   "cell_type": "code",
   "execution_count": 207,
   "id": "7bf304d1-b8f9-4ae2-9ae2-18556f9045ab",
   "metadata": {
    "tags": []
   },
   "outputs": [
    {
     "data": {
      "text/plain": [
       "0            NaN\n",
       "1       0.001878\n",
       "2      -0.011058\n",
       "3      -0.000681\n",
       "4      -0.003972\n",
       "          ...   \n",
       "1505    0.005702\n",
       "1506    0.006861\n",
       "1507   -0.007250\n",
       "1508    0.019888\n",
       "1509   -0.002666\n",
       "Name: log_return2, Length: 1510, dtype: float64"
      ]
     },
     "execution_count": 207,
     "metadata": {},
     "output_type": "execute_result"
    }
   ],
   "source": [
    "df_2 = df2.groupby('log_return2')['log_return2'].transform('max')\n",
    "df_2"
   ]
  },
  {
   "cell_type": "code",
   "execution_count": 209,
   "id": "b3d28fa1-edbd-4069-a73d-65731d82499a",
   "metadata": {
    "tags": []
   },
   "outputs": [
    {
     "data": {
      "text/plain": [
       "0            NaN\n",
       "1       0.016199\n",
       "2       0.007205\n",
       "3      -0.016643\n",
       "4      -0.027257\n",
       "          ...   \n",
       "1505    0.027337\n",
       "1506    0.007654\n",
       "1507   -0.039491\n",
       "1508    0.007515\n",
       "1509    0.010747\n",
       "Name: log_return3, Length: 1510, dtype: float64"
      ]
     },
     "execution_count": 209,
     "metadata": {},
     "output_type": "execute_result"
    }
   ],
   "source": [
    "df_3 = df3.groupby('log_return3')['log_return3'].transform('max')\n",
    "df_3"
   ]
  },
  {
   "cell_type": "code",
   "execution_count": 215,
   "id": "2a9e5dc1-b71e-4911-a3fc-b42cfeb2cc92",
   "metadata": {
    "tags": []
   },
   "outputs": [
    {
     "data": {
      "text/plain": [
       "0            NaN\n",
       "1       0.006431\n",
       "2      -0.007736\n",
       "3       0.004368\n",
       "4       0.017852\n",
       "          ...   \n",
       "1505   -0.003931\n",
       "1506   -0.006888\n",
       "1507   -0.005429\n",
       "1508    0.017347\n",
       "1509   -0.005942\n",
       "Name: log_return4, Length: 1510, dtype: float64"
      ]
     },
     "execution_count": 215,
     "metadata": {},
     "output_type": "execute_result"
    }
   ],
   "source": [
    "df_4 = df4.groupby('log_return4')['log_return4'].transform('max')\n",
    "df_4"
   ]
  },
  {
   "cell_type": "code",
   "execution_count": null,
   "id": "35a3b80b-abd8-48ec-ad0a-fa8b92efd554",
   "metadata": {},
   "outputs": [],
   "source": []
  }
 ],
 "metadata": {
  "kernelspec": {
   "display_name": "Python 3 (ipykernel)",
   "language": "python",
   "name": "python3"
  },
  "language_info": {
   "codemirror_mode": {
    "name": "ipython",
    "version": 3
   },
   "file_extension": ".py",
   "mimetype": "text/x-python",
   "name": "python",
   "nbconvert_exporter": "python",
   "pygments_lexer": "ipython3",
   "version": "3.11.7"
  }
 },
 "nbformat": 4,
 "nbformat_minor": 5
}
